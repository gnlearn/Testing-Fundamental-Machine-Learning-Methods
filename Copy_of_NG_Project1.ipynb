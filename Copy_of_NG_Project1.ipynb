{
  "nbformat": 4,
  "nbformat_minor": 0,
  "metadata": {
    "colab": {
      "provenance": []
    },
    "kernelspec": {
      "name": "python3",
      "display_name": "Python 3"
    },
    "language_info": {
      "name": "python"
    }
  },
  "cells": [
    {
      "cell_type": "markdown",
      "source": [
        "#**Problem**\n",
        "The purpose of this experiment is to be able to accurately predict the average price of avocados given industry data about the volume sold, avocado type, and year. \\\n",
        "This data was collected from multiple sources including grocery, mass, club, drug, dollar and military stores. The data was found on <a href=\"https://www.kaggle.com/datasets/neuromusic/avocado-prices\">Kaggle</a> (listed on the instructions). The columns of this dataset includes a date, average price of avocados, total volume of avocados sold, total medium sized avocados sold (PLU 4046), total large sized avocados sold (PLU 4225), total extra-large sized avocados sold (PLU 4770), total bags, total small bags, total large bags, region of observation, and year the row data was collected in. Using regression, the average price can be estimated using various models and this training data. The fit of the models can then be analyzed with metrics such as mean absolute error, mean squared error, and r squared values.\n"
      ],
      "metadata": {
        "id": "gLwwE_oYeLc_"
      }
    },
    {
      "cell_type": "code",
      "execution_count": null,
      "metadata": {
        "id": "kWNoVj-KHMpa",
        "colab": {
          "base_uri": "https://localhost:8080/"
        },
        "outputId": "1e84a67f-0151-4878-fbfe-1f1e54547a27"
      },
      "outputs": [
        {
          "output_type": "stream",
          "name": "stdout",
          "text": [
            "Mounted at /content/drive\n"
          ]
        }
      ],
      "source": [
        "from google.colab import drive\n",
        "drive.mount('/content/drive')"
      ]
    },
    {
      "cell_type": "code",
      "source": [
        "import sklearn\n",
        "from sklearn import tree\n",
        "from sklearn.model_selection import train_test_split\n",
        "from sklearn import metrics\n",
        "from sklearn import neighbors\n",
        "from sklearn.preprocessing import StandardScaler\n",
        "import pandas as pd\n",
        "\n",
        "path = \"/content/drive/MyDrive/CS 167 Spring 24/Datasets/avocado.csv\"\n",
        "avocado = pd.read_csv(path)\n",
        "avocado.head()"
      ],
      "metadata": {
        "colab": {
          "base_uri": "https://localhost:8080/",
          "height": 310
        },
        "id": "fWhO6vecP90D",
        "outputId": "a459da8f-2b25-44c8-8748-25990a60e1a0"
      },
      "execution_count": null,
      "outputs": [
        {
          "output_type": "execute_result",
          "data": {
            "text/plain": [
              "   Unnamed: 0        Date  AveragePrice  Total Volume     4046       4225  \\\n",
              "0           0  2015-12-27          1.33      64236.62  1036.74   54454.85   \n",
              "1           1  2015-12-20          1.35      54876.98   674.28   44638.81   \n",
              "2           2  2015-12-13          0.93     118220.22   794.70  109149.67   \n",
              "3           3  2015-12-06          1.08      78992.15  1132.00   71976.41   \n",
              "4           4  2015-11-29          1.28      51039.60   941.48   43838.39   \n",
              "\n",
              "     4770  Total Bags  Small Bags  Large Bags  XLarge Bags          type  \\\n",
              "0   48.16     8696.87     8603.62       93.25          0.0  conventional   \n",
              "1   58.33     9505.56     9408.07       97.49          0.0  conventional   \n",
              "2  130.50     8145.35     8042.21      103.14          0.0  conventional   \n",
              "3   72.58     5811.16     5677.40      133.76          0.0  conventional   \n",
              "4   75.78     6183.95     5986.26      197.69          0.0  conventional   \n",
              "\n",
              "   year  region  \n",
              "0  2015  Albany  \n",
              "1  2015  Albany  \n",
              "2  2015  Albany  \n",
              "3  2015  Albany  \n",
              "4  2015  Albany  "
            ],
            "text/html": [
              "\n",
              "  <div id=\"df-aec0edf5-c768-48ea-9fe2-bbb3c654bc74\" class=\"colab-df-container\">\n",
              "    <div>\n",
              "<style scoped>\n",
              "    .dataframe tbody tr th:only-of-type {\n",
              "        vertical-align: middle;\n",
              "    }\n",
              "\n",
              "    .dataframe tbody tr th {\n",
              "        vertical-align: top;\n",
              "    }\n",
              "\n",
              "    .dataframe thead th {\n",
              "        text-align: right;\n",
              "    }\n",
              "</style>\n",
              "<table border=\"1\" class=\"dataframe\">\n",
              "  <thead>\n",
              "    <tr style=\"text-align: right;\">\n",
              "      <th></th>\n",
              "      <th>Unnamed: 0</th>\n",
              "      <th>Date</th>\n",
              "      <th>AveragePrice</th>\n",
              "      <th>Total Volume</th>\n",
              "      <th>4046</th>\n",
              "      <th>4225</th>\n",
              "      <th>4770</th>\n",
              "      <th>Total Bags</th>\n",
              "      <th>Small Bags</th>\n",
              "      <th>Large Bags</th>\n",
              "      <th>XLarge Bags</th>\n",
              "      <th>type</th>\n",
              "      <th>year</th>\n",
              "      <th>region</th>\n",
              "    </tr>\n",
              "  </thead>\n",
              "  <tbody>\n",
              "    <tr>\n",
              "      <th>0</th>\n",
              "      <td>0</td>\n",
              "      <td>2015-12-27</td>\n",
              "      <td>1.33</td>\n",
              "      <td>64236.62</td>\n",
              "      <td>1036.74</td>\n",
              "      <td>54454.85</td>\n",
              "      <td>48.16</td>\n",
              "      <td>8696.87</td>\n",
              "      <td>8603.62</td>\n",
              "      <td>93.25</td>\n",
              "      <td>0.0</td>\n",
              "      <td>conventional</td>\n",
              "      <td>2015</td>\n",
              "      <td>Albany</td>\n",
              "    </tr>\n",
              "    <tr>\n",
              "      <th>1</th>\n",
              "      <td>1</td>\n",
              "      <td>2015-12-20</td>\n",
              "      <td>1.35</td>\n",
              "      <td>54876.98</td>\n",
              "      <td>674.28</td>\n",
              "      <td>44638.81</td>\n",
              "      <td>58.33</td>\n",
              "      <td>9505.56</td>\n",
              "      <td>9408.07</td>\n",
              "      <td>97.49</td>\n",
              "      <td>0.0</td>\n",
              "      <td>conventional</td>\n",
              "      <td>2015</td>\n",
              "      <td>Albany</td>\n",
              "    </tr>\n",
              "    <tr>\n",
              "      <th>2</th>\n",
              "      <td>2</td>\n",
              "      <td>2015-12-13</td>\n",
              "      <td>0.93</td>\n",
              "      <td>118220.22</td>\n",
              "      <td>794.70</td>\n",
              "      <td>109149.67</td>\n",
              "      <td>130.50</td>\n",
              "      <td>8145.35</td>\n",
              "      <td>8042.21</td>\n",
              "      <td>103.14</td>\n",
              "      <td>0.0</td>\n",
              "      <td>conventional</td>\n",
              "      <td>2015</td>\n",
              "      <td>Albany</td>\n",
              "    </tr>\n",
              "    <tr>\n",
              "      <th>3</th>\n",
              "      <td>3</td>\n",
              "      <td>2015-12-06</td>\n",
              "      <td>1.08</td>\n",
              "      <td>78992.15</td>\n",
              "      <td>1132.00</td>\n",
              "      <td>71976.41</td>\n",
              "      <td>72.58</td>\n",
              "      <td>5811.16</td>\n",
              "      <td>5677.40</td>\n",
              "      <td>133.76</td>\n",
              "      <td>0.0</td>\n",
              "      <td>conventional</td>\n",
              "      <td>2015</td>\n",
              "      <td>Albany</td>\n",
              "    </tr>\n",
              "    <tr>\n",
              "      <th>4</th>\n",
              "      <td>4</td>\n",
              "      <td>2015-11-29</td>\n",
              "      <td>1.28</td>\n",
              "      <td>51039.60</td>\n",
              "      <td>941.48</td>\n",
              "      <td>43838.39</td>\n",
              "      <td>75.78</td>\n",
              "      <td>6183.95</td>\n",
              "      <td>5986.26</td>\n",
              "      <td>197.69</td>\n",
              "      <td>0.0</td>\n",
              "      <td>conventional</td>\n",
              "      <td>2015</td>\n",
              "      <td>Albany</td>\n",
              "    </tr>\n",
              "  </tbody>\n",
              "</table>\n",
              "</div>\n",
              "    <div class=\"colab-df-buttons\">\n",
              "\n",
              "  <div class=\"colab-df-container\">\n",
              "    <button class=\"colab-df-convert\" onclick=\"convertToInteractive('df-aec0edf5-c768-48ea-9fe2-bbb3c654bc74')\"\n",
              "            title=\"Convert this dataframe to an interactive table.\"\n",
              "            style=\"display:none;\">\n",
              "\n",
              "  <svg xmlns=\"http://www.w3.org/2000/svg\" height=\"24px\" viewBox=\"0 -960 960 960\">\n",
              "    <path d=\"M120-120v-720h720v720H120Zm60-500h600v-160H180v160Zm220 220h160v-160H400v160Zm0 220h160v-160H400v160ZM180-400h160v-160H180v160Zm440 0h160v-160H620v160ZM180-180h160v-160H180v160Zm440 0h160v-160H620v160Z\"/>\n",
              "  </svg>\n",
              "    </button>\n",
              "\n",
              "  <style>\n",
              "    .colab-df-container {\n",
              "      display:flex;\n",
              "      gap: 12px;\n",
              "    }\n",
              "\n",
              "    .colab-df-convert {\n",
              "      background-color: #E8F0FE;\n",
              "      border: none;\n",
              "      border-radius: 50%;\n",
              "      cursor: pointer;\n",
              "      display: none;\n",
              "      fill: #1967D2;\n",
              "      height: 32px;\n",
              "      padding: 0 0 0 0;\n",
              "      width: 32px;\n",
              "    }\n",
              "\n",
              "    .colab-df-convert:hover {\n",
              "      background-color: #E2EBFA;\n",
              "      box-shadow: 0px 1px 2px rgba(60, 64, 67, 0.3), 0px 1px 3px 1px rgba(60, 64, 67, 0.15);\n",
              "      fill: #174EA6;\n",
              "    }\n",
              "\n",
              "    .colab-df-buttons div {\n",
              "      margin-bottom: 4px;\n",
              "    }\n",
              "\n",
              "    [theme=dark] .colab-df-convert {\n",
              "      background-color: #3B4455;\n",
              "      fill: #D2E3FC;\n",
              "    }\n",
              "\n",
              "    [theme=dark] .colab-df-convert:hover {\n",
              "      background-color: #434B5C;\n",
              "      box-shadow: 0px 1px 3px 1px rgba(0, 0, 0, 0.15);\n",
              "      filter: drop-shadow(0px 1px 2px rgba(0, 0, 0, 0.3));\n",
              "      fill: #FFFFFF;\n",
              "    }\n",
              "  </style>\n",
              "\n",
              "    <script>\n",
              "      const buttonEl =\n",
              "        document.querySelector('#df-aec0edf5-c768-48ea-9fe2-bbb3c654bc74 button.colab-df-convert');\n",
              "      buttonEl.style.display =\n",
              "        google.colab.kernel.accessAllowed ? 'block' : 'none';\n",
              "\n",
              "      async function convertToInteractive(key) {\n",
              "        const element = document.querySelector('#df-aec0edf5-c768-48ea-9fe2-bbb3c654bc74');\n",
              "        const dataTable =\n",
              "          await google.colab.kernel.invokeFunction('convertToInteractive',\n",
              "                                                    [key], {});\n",
              "        if (!dataTable) return;\n",
              "\n",
              "        const docLinkHtml = 'Like what you see? Visit the ' +\n",
              "          '<a target=\"_blank\" href=https://colab.research.google.com/notebooks/data_table.ipynb>data table notebook</a>'\n",
              "          + ' to learn more about interactive tables.';\n",
              "        element.innerHTML = '';\n",
              "        dataTable['output_type'] = 'display_data';\n",
              "        await google.colab.output.renderOutput(dataTable, element);\n",
              "        const docLink = document.createElement('div');\n",
              "        docLink.innerHTML = docLinkHtml;\n",
              "        element.appendChild(docLink);\n",
              "      }\n",
              "    </script>\n",
              "  </div>\n",
              "\n",
              "\n",
              "<div id=\"df-b119a3ce-5ff2-4461-a318-88c1dc220f85\">\n",
              "  <button class=\"colab-df-quickchart\" onclick=\"quickchart('df-b119a3ce-5ff2-4461-a318-88c1dc220f85')\"\n",
              "            title=\"Suggest charts\"\n",
              "            style=\"display:none;\">\n",
              "\n",
              "<svg xmlns=\"http://www.w3.org/2000/svg\" height=\"24px\"viewBox=\"0 0 24 24\"\n",
              "     width=\"24px\">\n",
              "    <g>\n",
              "        <path d=\"M19 3H5c-1.1 0-2 .9-2 2v14c0 1.1.9 2 2 2h14c1.1 0 2-.9 2-2V5c0-1.1-.9-2-2-2zM9 17H7v-7h2v7zm4 0h-2V7h2v10zm4 0h-2v-4h2v4z\"/>\n",
              "    </g>\n",
              "</svg>\n",
              "  </button>\n",
              "\n",
              "<style>\n",
              "  .colab-df-quickchart {\n",
              "      --bg-color: #E8F0FE;\n",
              "      --fill-color: #1967D2;\n",
              "      --hover-bg-color: #E2EBFA;\n",
              "      --hover-fill-color: #174EA6;\n",
              "      --disabled-fill-color: #AAA;\n",
              "      --disabled-bg-color: #DDD;\n",
              "  }\n",
              "\n",
              "  [theme=dark] .colab-df-quickchart {\n",
              "      --bg-color: #3B4455;\n",
              "      --fill-color: #D2E3FC;\n",
              "      --hover-bg-color: #434B5C;\n",
              "      --hover-fill-color: #FFFFFF;\n",
              "      --disabled-bg-color: #3B4455;\n",
              "      --disabled-fill-color: #666;\n",
              "  }\n",
              "\n",
              "  .colab-df-quickchart {\n",
              "    background-color: var(--bg-color);\n",
              "    border: none;\n",
              "    border-radius: 50%;\n",
              "    cursor: pointer;\n",
              "    display: none;\n",
              "    fill: var(--fill-color);\n",
              "    height: 32px;\n",
              "    padding: 0;\n",
              "    width: 32px;\n",
              "  }\n",
              "\n",
              "  .colab-df-quickchart:hover {\n",
              "    background-color: var(--hover-bg-color);\n",
              "    box-shadow: 0 1px 2px rgba(60, 64, 67, 0.3), 0 1px 3px 1px rgba(60, 64, 67, 0.15);\n",
              "    fill: var(--button-hover-fill-color);\n",
              "  }\n",
              "\n",
              "  .colab-df-quickchart-complete:disabled,\n",
              "  .colab-df-quickchart-complete:disabled:hover {\n",
              "    background-color: var(--disabled-bg-color);\n",
              "    fill: var(--disabled-fill-color);\n",
              "    box-shadow: none;\n",
              "  }\n",
              "\n",
              "  .colab-df-spinner {\n",
              "    border: 2px solid var(--fill-color);\n",
              "    border-color: transparent;\n",
              "    border-bottom-color: var(--fill-color);\n",
              "    animation:\n",
              "      spin 1s steps(1) infinite;\n",
              "  }\n",
              "\n",
              "  @keyframes spin {\n",
              "    0% {\n",
              "      border-color: transparent;\n",
              "      border-bottom-color: var(--fill-color);\n",
              "      border-left-color: var(--fill-color);\n",
              "    }\n",
              "    20% {\n",
              "      border-color: transparent;\n",
              "      border-left-color: var(--fill-color);\n",
              "      border-top-color: var(--fill-color);\n",
              "    }\n",
              "    30% {\n",
              "      border-color: transparent;\n",
              "      border-left-color: var(--fill-color);\n",
              "      border-top-color: var(--fill-color);\n",
              "      border-right-color: var(--fill-color);\n",
              "    }\n",
              "    40% {\n",
              "      border-color: transparent;\n",
              "      border-right-color: var(--fill-color);\n",
              "      border-top-color: var(--fill-color);\n",
              "    }\n",
              "    60% {\n",
              "      border-color: transparent;\n",
              "      border-right-color: var(--fill-color);\n",
              "    }\n",
              "    80% {\n",
              "      border-color: transparent;\n",
              "      border-right-color: var(--fill-color);\n",
              "      border-bottom-color: var(--fill-color);\n",
              "    }\n",
              "    90% {\n",
              "      border-color: transparent;\n",
              "      border-bottom-color: var(--fill-color);\n",
              "    }\n",
              "  }\n",
              "</style>\n",
              "\n",
              "  <script>\n",
              "    async function quickchart(key) {\n",
              "      const quickchartButtonEl =\n",
              "        document.querySelector('#' + key + ' button');\n",
              "      quickchartButtonEl.disabled = true;  // To prevent multiple clicks.\n",
              "      quickchartButtonEl.classList.add('colab-df-spinner');\n",
              "      try {\n",
              "        const charts = await google.colab.kernel.invokeFunction(\n",
              "            'suggestCharts', [key], {});\n",
              "      } catch (error) {\n",
              "        console.error('Error during call to suggestCharts:', error);\n",
              "      }\n",
              "      quickchartButtonEl.classList.remove('colab-df-spinner');\n",
              "      quickchartButtonEl.classList.add('colab-df-quickchart-complete');\n",
              "    }\n",
              "    (() => {\n",
              "      let quickchartButtonEl =\n",
              "        document.querySelector('#df-b119a3ce-5ff2-4461-a318-88c1dc220f85 button');\n",
              "      quickchartButtonEl.style.display =\n",
              "        google.colab.kernel.accessAllowed ? 'block' : 'none';\n",
              "    })();\n",
              "  </script>\n",
              "</div>\n",
              "    </div>\n",
              "  </div>\n"
            ],
            "application/vnd.google.colaboratory.intrinsic+json": {
              "type": "dataframe",
              "variable_name": "avocado",
              "summary": "{\n  \"name\": \"avocado\",\n  \"rows\": 18249,\n  \"fields\": [\n    {\n      \"column\": \"Unnamed: 0\",\n      \"properties\": {\n        \"dtype\": \"number\",\n        \"std\": 15,\n        \"min\": 0,\n        \"max\": 52,\n        \"num_unique_values\": 53,\n        \"samples\": [\n          19,\n          41,\n          47\n        ],\n        \"semantic_type\": \"\",\n        \"description\": \"\"\n      }\n    },\n    {\n      \"column\": \"Date\",\n      \"properties\": {\n        \"dtype\": \"object\",\n        \"num_unique_values\": 169,\n        \"samples\": [\n          \"2017-05-07\",\n          \"2015-05-31\",\n          \"2017-09-17\"\n        ],\n        \"semantic_type\": \"\",\n        \"description\": \"\"\n      }\n    },\n    {\n      \"column\": \"AveragePrice\",\n      \"properties\": {\n        \"dtype\": \"number\",\n        \"std\": 0.40267655549555065,\n        \"min\": 0.44,\n        \"max\": 3.25,\n        \"num_unique_values\": 259,\n        \"samples\": [\n          0.88,\n          0.91,\n          1.07\n        ],\n        \"semantic_type\": \"\",\n        \"description\": \"\"\n      }\n    },\n    {\n      \"column\": \"Total Volume\",\n      \"properties\": {\n        \"dtype\": \"number\",\n        \"std\": 3453545.3553994712,\n        \"min\": 84.56,\n        \"max\": 62505646.52,\n        \"num_unique_values\": 18237,\n        \"samples\": [\n          9783.93,\n          2604991.25,\n          277267.97\n        ],\n        \"semantic_type\": \"\",\n        \"description\": \"\"\n      }\n    },\n    {\n      \"column\": \"4046\",\n      \"properties\": {\n        \"dtype\": \"number\",\n        \"std\": 1264989.0817627772,\n        \"min\": 0.0,\n        \"max\": 22743616.17,\n        \"num_unique_values\": 17702,\n        \"samples\": [\n          97.29,\n          97139.95,\n          6339.49\n        ],\n        \"semantic_type\": \"\",\n        \"description\": \"\"\n      }\n    },\n    {\n      \"column\": \"4225\",\n      \"properties\": {\n        \"dtype\": \"number\",\n        \"std\": 1204120.4011350507,\n        \"min\": 0.0,\n        \"max\": 20470572.61,\n        \"num_unique_values\": 18103,\n        \"samples\": [\n          11096.86,\n          22648.55,\n          87497.9\n        ],\n        \"semantic_type\": \"\",\n        \"description\": \"\"\n      }\n    },\n    {\n      \"column\": \"4770\",\n      \"properties\": {\n        \"dtype\": \"number\",\n        \"std\": 107464.06843537073,\n        \"min\": 0.0,\n        \"max\": 2546439.11,\n        \"num_unique_values\": 12071,\n        \"samples\": [\n          74.0,\n          1875.51,\n          202.18\n        ],\n        \"semantic_type\": \"\",\n        \"description\": \"\"\n      }\n    },\n    {\n      \"column\": \"Total Bags\",\n      \"properties\": {\n        \"dtype\": \"number\",\n        \"std\": 986242.3992164118,\n        \"min\": 0.0,\n        \"max\": 19373134.37,\n        \"num_unique_values\": 18097,\n        \"samples\": [\n          63800.09,\n          12938.12,\n          912891.54\n        ],\n        \"semantic_type\": \"\",\n        \"description\": \"\"\n      }\n    },\n    {\n      \"column\": \"Small Bags\",\n      \"properties\": {\n        \"dtype\": \"number\",\n        \"std\": 746178.5149617889,\n        \"min\": 0.0,\n        \"max\": 13384586.8,\n        \"num_unique_values\": 17321,\n        \"samples\": [\n          41688.75,\n          118293.26,\n          93488.63\n        ],\n        \"semantic_type\": \"\",\n        \"description\": \"\"\n      }\n    },\n    {\n      \"column\": \"Large Bags\",\n      \"properties\": {\n        \"dtype\": \"number\",\n        \"std\": 243965.96454740883,\n        \"min\": 0.0,\n        \"max\": 5719096.61,\n        \"num_unique_values\": 15082,\n        \"samples\": [\n          5155.3,\n          43900.93,\n          163807.71\n        ],\n        \"semantic_type\": \"\",\n        \"description\": \"\"\n      }\n    },\n    {\n      \"column\": \"XLarge Bags\",\n      \"properties\": {\n        \"dtype\": \"number\",\n        \"std\": 17692.894651916486,\n        \"min\": 0.0,\n        \"max\": 551693.65,\n        \"num_unique_values\": 5588,\n        \"samples\": [\n          527.2,\n          1290.39,\n          7249.07\n        ],\n        \"semantic_type\": \"\",\n        \"description\": \"\"\n      }\n    },\n    {\n      \"column\": \"type\",\n      \"properties\": {\n        \"dtype\": \"category\",\n        \"num_unique_values\": 2,\n        \"samples\": [\n          \"organic\",\n          \"conventional\"\n        ],\n        \"semantic_type\": \"\",\n        \"description\": \"\"\n      }\n    },\n    {\n      \"column\": \"year\",\n      \"properties\": {\n        \"dtype\": \"number\",\n        \"std\": 0,\n        \"min\": 2015,\n        \"max\": 2018,\n        \"num_unique_values\": 4,\n        \"samples\": [\n          2016,\n          2018\n        ],\n        \"semantic_type\": \"\",\n        \"description\": \"\"\n      }\n    },\n    {\n      \"column\": \"region\",\n      \"properties\": {\n        \"dtype\": \"category\",\n        \"num_unique_values\": 54,\n        \"samples\": [\n          \"Indianapolis\",\n          \"Syracuse\"\n        ],\n        \"semantic_type\": \"\",\n        \"description\": \"\"\n      }\n    }\n  ]\n}"
            }
          },
          "metadata": {},
          "execution_count": 39
        }
      ]
    },
    {
      "cell_type": "markdown",
      "source": [
        "#**Data Preparation**\n",
        "The avocado data proved to be clean because it didn't contain  incomplete data points in any of the important columns. The type and region columns were excluded for being qualitative data therefore not conducive to the quantitative models. The date column was removed because there already was a column for the year. Also, the extra index column was removed for redundancy. Next, the data was randomly split with 80% of the data in the training group and 20% in the testing group."
      ],
      "metadata": {
        "id": "d6tKWgwUliSa"
      }
    },
    {
      "cell_type": "code",
      "source": [
        "avocado = avocado.iloc[:, [2,3,4,5,6,7,8,9,10,12]]\n",
        "avocado.head()"
      ],
      "metadata": {
        "colab": {
          "base_uri": "https://localhost:8080/",
          "height": 206
        },
        "id": "GxOOQ0eARyeQ",
        "outputId": "8f08fe43-d8ba-4248-db0d-22e7e8dd9eb8"
      },
      "execution_count": null,
      "outputs": [
        {
          "output_type": "execute_result",
          "data": {
            "text/plain": [
              "   AveragePrice  Total Volume     4046       4225    4770  Total Bags  \\\n",
              "0          1.33      64236.62  1036.74   54454.85   48.16     8696.87   \n",
              "1          1.35      54876.98   674.28   44638.81   58.33     9505.56   \n",
              "2          0.93     118220.22   794.70  109149.67  130.50     8145.35   \n",
              "3          1.08      78992.15  1132.00   71976.41   72.58     5811.16   \n",
              "4          1.28      51039.60   941.48   43838.39   75.78     6183.95   \n",
              "\n",
              "   Small Bags  Large Bags  XLarge Bags  year  \n",
              "0     8603.62       93.25          0.0  2015  \n",
              "1     9408.07       97.49          0.0  2015  \n",
              "2     8042.21      103.14          0.0  2015  \n",
              "3     5677.40      133.76          0.0  2015  \n",
              "4     5986.26      197.69          0.0  2015  "
            ],
            "text/html": [
              "\n",
              "  <div id=\"df-563045df-9b27-4682-a3d7-fa10c01e08f8\" class=\"colab-df-container\">\n",
              "    <div>\n",
              "<style scoped>\n",
              "    .dataframe tbody tr th:only-of-type {\n",
              "        vertical-align: middle;\n",
              "    }\n",
              "\n",
              "    .dataframe tbody tr th {\n",
              "        vertical-align: top;\n",
              "    }\n",
              "\n",
              "    .dataframe thead th {\n",
              "        text-align: right;\n",
              "    }\n",
              "</style>\n",
              "<table border=\"1\" class=\"dataframe\">\n",
              "  <thead>\n",
              "    <tr style=\"text-align: right;\">\n",
              "      <th></th>\n",
              "      <th>AveragePrice</th>\n",
              "      <th>Total Volume</th>\n",
              "      <th>4046</th>\n",
              "      <th>4225</th>\n",
              "      <th>4770</th>\n",
              "      <th>Total Bags</th>\n",
              "      <th>Small Bags</th>\n",
              "      <th>Large Bags</th>\n",
              "      <th>XLarge Bags</th>\n",
              "      <th>year</th>\n",
              "    </tr>\n",
              "  </thead>\n",
              "  <tbody>\n",
              "    <tr>\n",
              "      <th>0</th>\n",
              "      <td>1.33</td>\n",
              "      <td>64236.62</td>\n",
              "      <td>1036.74</td>\n",
              "      <td>54454.85</td>\n",
              "      <td>48.16</td>\n",
              "      <td>8696.87</td>\n",
              "      <td>8603.62</td>\n",
              "      <td>93.25</td>\n",
              "      <td>0.0</td>\n",
              "      <td>2015</td>\n",
              "    </tr>\n",
              "    <tr>\n",
              "      <th>1</th>\n",
              "      <td>1.35</td>\n",
              "      <td>54876.98</td>\n",
              "      <td>674.28</td>\n",
              "      <td>44638.81</td>\n",
              "      <td>58.33</td>\n",
              "      <td>9505.56</td>\n",
              "      <td>9408.07</td>\n",
              "      <td>97.49</td>\n",
              "      <td>0.0</td>\n",
              "      <td>2015</td>\n",
              "    </tr>\n",
              "    <tr>\n",
              "      <th>2</th>\n",
              "      <td>0.93</td>\n",
              "      <td>118220.22</td>\n",
              "      <td>794.70</td>\n",
              "      <td>109149.67</td>\n",
              "      <td>130.50</td>\n",
              "      <td>8145.35</td>\n",
              "      <td>8042.21</td>\n",
              "      <td>103.14</td>\n",
              "      <td>0.0</td>\n",
              "      <td>2015</td>\n",
              "    </tr>\n",
              "    <tr>\n",
              "      <th>3</th>\n",
              "      <td>1.08</td>\n",
              "      <td>78992.15</td>\n",
              "      <td>1132.00</td>\n",
              "      <td>71976.41</td>\n",
              "      <td>72.58</td>\n",
              "      <td>5811.16</td>\n",
              "      <td>5677.40</td>\n",
              "      <td>133.76</td>\n",
              "      <td>0.0</td>\n",
              "      <td>2015</td>\n",
              "    </tr>\n",
              "    <tr>\n",
              "      <th>4</th>\n",
              "      <td>1.28</td>\n",
              "      <td>51039.60</td>\n",
              "      <td>941.48</td>\n",
              "      <td>43838.39</td>\n",
              "      <td>75.78</td>\n",
              "      <td>6183.95</td>\n",
              "      <td>5986.26</td>\n",
              "      <td>197.69</td>\n",
              "      <td>0.0</td>\n",
              "      <td>2015</td>\n",
              "    </tr>\n",
              "  </tbody>\n",
              "</table>\n",
              "</div>\n",
              "    <div class=\"colab-df-buttons\">\n",
              "\n",
              "  <div class=\"colab-df-container\">\n",
              "    <button class=\"colab-df-convert\" onclick=\"convertToInteractive('df-563045df-9b27-4682-a3d7-fa10c01e08f8')\"\n",
              "            title=\"Convert this dataframe to an interactive table.\"\n",
              "            style=\"display:none;\">\n",
              "\n",
              "  <svg xmlns=\"http://www.w3.org/2000/svg\" height=\"24px\" viewBox=\"0 -960 960 960\">\n",
              "    <path d=\"M120-120v-720h720v720H120Zm60-500h600v-160H180v160Zm220 220h160v-160H400v160Zm0 220h160v-160H400v160ZM180-400h160v-160H180v160Zm440 0h160v-160H620v160ZM180-180h160v-160H180v160Zm440 0h160v-160H620v160Z\"/>\n",
              "  </svg>\n",
              "    </button>\n",
              "\n",
              "  <style>\n",
              "    .colab-df-container {\n",
              "      display:flex;\n",
              "      gap: 12px;\n",
              "    }\n",
              "\n",
              "    .colab-df-convert {\n",
              "      background-color: #E8F0FE;\n",
              "      border: none;\n",
              "      border-radius: 50%;\n",
              "      cursor: pointer;\n",
              "      display: none;\n",
              "      fill: #1967D2;\n",
              "      height: 32px;\n",
              "      padding: 0 0 0 0;\n",
              "      width: 32px;\n",
              "    }\n",
              "\n",
              "    .colab-df-convert:hover {\n",
              "      background-color: #E2EBFA;\n",
              "      box-shadow: 0px 1px 2px rgba(60, 64, 67, 0.3), 0px 1px 3px 1px rgba(60, 64, 67, 0.15);\n",
              "      fill: #174EA6;\n",
              "    }\n",
              "\n",
              "    .colab-df-buttons div {\n",
              "      margin-bottom: 4px;\n",
              "    }\n",
              "\n",
              "    [theme=dark] .colab-df-convert {\n",
              "      background-color: #3B4455;\n",
              "      fill: #D2E3FC;\n",
              "    }\n",
              "\n",
              "    [theme=dark] .colab-df-convert:hover {\n",
              "      background-color: #434B5C;\n",
              "      box-shadow: 0px 1px 3px 1px rgba(0, 0, 0, 0.15);\n",
              "      filter: drop-shadow(0px 1px 2px rgba(0, 0, 0, 0.3));\n",
              "      fill: #FFFFFF;\n",
              "    }\n",
              "  </style>\n",
              "\n",
              "    <script>\n",
              "      const buttonEl =\n",
              "        document.querySelector('#df-563045df-9b27-4682-a3d7-fa10c01e08f8 button.colab-df-convert');\n",
              "      buttonEl.style.display =\n",
              "        google.colab.kernel.accessAllowed ? 'block' : 'none';\n",
              "\n",
              "      async function convertToInteractive(key) {\n",
              "        const element = document.querySelector('#df-563045df-9b27-4682-a3d7-fa10c01e08f8');\n",
              "        const dataTable =\n",
              "          await google.colab.kernel.invokeFunction('convertToInteractive',\n",
              "                                                    [key], {});\n",
              "        if (!dataTable) return;\n",
              "\n",
              "        const docLinkHtml = 'Like what you see? Visit the ' +\n",
              "          '<a target=\"_blank\" href=https://colab.research.google.com/notebooks/data_table.ipynb>data table notebook</a>'\n",
              "          + ' to learn more about interactive tables.';\n",
              "        element.innerHTML = '';\n",
              "        dataTable['output_type'] = 'display_data';\n",
              "        await google.colab.output.renderOutput(dataTable, element);\n",
              "        const docLink = document.createElement('div');\n",
              "        docLink.innerHTML = docLinkHtml;\n",
              "        element.appendChild(docLink);\n",
              "      }\n",
              "    </script>\n",
              "  </div>\n",
              "\n",
              "\n",
              "<div id=\"df-c569a1f1-8aea-4546-8e50-17984bc4a11a\">\n",
              "  <button class=\"colab-df-quickchart\" onclick=\"quickchart('df-c569a1f1-8aea-4546-8e50-17984bc4a11a')\"\n",
              "            title=\"Suggest charts\"\n",
              "            style=\"display:none;\">\n",
              "\n",
              "<svg xmlns=\"http://www.w3.org/2000/svg\" height=\"24px\"viewBox=\"0 0 24 24\"\n",
              "     width=\"24px\">\n",
              "    <g>\n",
              "        <path d=\"M19 3H5c-1.1 0-2 .9-2 2v14c0 1.1.9 2 2 2h14c1.1 0 2-.9 2-2V5c0-1.1-.9-2-2-2zM9 17H7v-7h2v7zm4 0h-2V7h2v10zm4 0h-2v-4h2v4z\"/>\n",
              "    </g>\n",
              "</svg>\n",
              "  </button>\n",
              "\n",
              "<style>\n",
              "  .colab-df-quickchart {\n",
              "      --bg-color: #E8F0FE;\n",
              "      --fill-color: #1967D2;\n",
              "      --hover-bg-color: #E2EBFA;\n",
              "      --hover-fill-color: #174EA6;\n",
              "      --disabled-fill-color: #AAA;\n",
              "      --disabled-bg-color: #DDD;\n",
              "  }\n",
              "\n",
              "  [theme=dark] .colab-df-quickchart {\n",
              "      --bg-color: #3B4455;\n",
              "      --fill-color: #D2E3FC;\n",
              "      --hover-bg-color: #434B5C;\n",
              "      --hover-fill-color: #FFFFFF;\n",
              "      --disabled-bg-color: #3B4455;\n",
              "      --disabled-fill-color: #666;\n",
              "  }\n",
              "\n",
              "  .colab-df-quickchart {\n",
              "    background-color: var(--bg-color);\n",
              "    border: none;\n",
              "    border-radius: 50%;\n",
              "    cursor: pointer;\n",
              "    display: none;\n",
              "    fill: var(--fill-color);\n",
              "    height: 32px;\n",
              "    padding: 0;\n",
              "    width: 32px;\n",
              "  }\n",
              "\n",
              "  .colab-df-quickchart:hover {\n",
              "    background-color: var(--hover-bg-color);\n",
              "    box-shadow: 0 1px 2px rgba(60, 64, 67, 0.3), 0 1px 3px 1px rgba(60, 64, 67, 0.15);\n",
              "    fill: var(--button-hover-fill-color);\n",
              "  }\n",
              "\n",
              "  .colab-df-quickchart-complete:disabled,\n",
              "  .colab-df-quickchart-complete:disabled:hover {\n",
              "    background-color: var(--disabled-bg-color);\n",
              "    fill: var(--disabled-fill-color);\n",
              "    box-shadow: none;\n",
              "  }\n",
              "\n",
              "  .colab-df-spinner {\n",
              "    border: 2px solid var(--fill-color);\n",
              "    border-color: transparent;\n",
              "    border-bottom-color: var(--fill-color);\n",
              "    animation:\n",
              "      spin 1s steps(1) infinite;\n",
              "  }\n",
              "\n",
              "  @keyframes spin {\n",
              "    0% {\n",
              "      border-color: transparent;\n",
              "      border-bottom-color: var(--fill-color);\n",
              "      border-left-color: var(--fill-color);\n",
              "    }\n",
              "    20% {\n",
              "      border-color: transparent;\n",
              "      border-left-color: var(--fill-color);\n",
              "      border-top-color: var(--fill-color);\n",
              "    }\n",
              "    30% {\n",
              "      border-color: transparent;\n",
              "      border-left-color: var(--fill-color);\n",
              "      border-top-color: var(--fill-color);\n",
              "      border-right-color: var(--fill-color);\n",
              "    }\n",
              "    40% {\n",
              "      border-color: transparent;\n",
              "      border-right-color: var(--fill-color);\n",
              "      border-top-color: var(--fill-color);\n",
              "    }\n",
              "    60% {\n",
              "      border-color: transparent;\n",
              "      border-right-color: var(--fill-color);\n",
              "    }\n",
              "    80% {\n",
              "      border-color: transparent;\n",
              "      border-right-color: var(--fill-color);\n",
              "      border-bottom-color: var(--fill-color);\n",
              "    }\n",
              "    90% {\n",
              "      border-color: transparent;\n",
              "      border-bottom-color: var(--fill-color);\n",
              "    }\n",
              "  }\n",
              "</style>\n",
              "\n",
              "  <script>\n",
              "    async function quickchart(key) {\n",
              "      const quickchartButtonEl =\n",
              "        document.querySelector('#' + key + ' button');\n",
              "      quickchartButtonEl.disabled = true;  // To prevent multiple clicks.\n",
              "      quickchartButtonEl.classList.add('colab-df-spinner');\n",
              "      try {\n",
              "        const charts = await google.colab.kernel.invokeFunction(\n",
              "            'suggestCharts', [key], {});\n",
              "      } catch (error) {\n",
              "        console.error('Error during call to suggestCharts:', error);\n",
              "      }\n",
              "      quickchartButtonEl.classList.remove('colab-df-spinner');\n",
              "      quickchartButtonEl.classList.add('colab-df-quickchart-complete');\n",
              "    }\n",
              "    (() => {\n",
              "      let quickchartButtonEl =\n",
              "        document.querySelector('#df-c569a1f1-8aea-4546-8e50-17984bc4a11a button');\n",
              "      quickchartButtonEl.style.display =\n",
              "        google.colab.kernel.accessAllowed ? 'block' : 'none';\n",
              "    })();\n",
              "  </script>\n",
              "</div>\n",
              "    </div>\n",
              "  </div>\n"
            ],
            "application/vnd.google.colaboratory.intrinsic+json": {
              "type": "dataframe",
              "variable_name": "avocado",
              "summary": "{\n  \"name\": \"avocado\",\n  \"rows\": 18249,\n  \"fields\": [\n    {\n      \"column\": \"AveragePrice\",\n      \"properties\": {\n        \"dtype\": \"number\",\n        \"std\": 0.40267655549555065,\n        \"min\": 0.44,\n        \"max\": 3.25,\n        \"num_unique_values\": 259,\n        \"samples\": [\n          0.88,\n          0.91,\n          1.07\n        ],\n        \"semantic_type\": \"\",\n        \"description\": \"\"\n      }\n    },\n    {\n      \"column\": \"Total Volume\",\n      \"properties\": {\n        \"dtype\": \"number\",\n        \"std\": 3453545.3553994712,\n        \"min\": 84.56,\n        \"max\": 62505646.52,\n        \"num_unique_values\": 18237,\n        \"samples\": [\n          9783.93,\n          2604991.25,\n          277267.97\n        ],\n        \"semantic_type\": \"\",\n        \"description\": \"\"\n      }\n    },\n    {\n      \"column\": \"4046\",\n      \"properties\": {\n        \"dtype\": \"number\",\n        \"std\": 1264989.0817627772,\n        \"min\": 0.0,\n        \"max\": 22743616.17,\n        \"num_unique_values\": 17702,\n        \"samples\": [\n          97.29,\n          97139.95,\n          6339.49\n        ],\n        \"semantic_type\": \"\",\n        \"description\": \"\"\n      }\n    },\n    {\n      \"column\": \"4225\",\n      \"properties\": {\n        \"dtype\": \"number\",\n        \"std\": 1204120.4011350507,\n        \"min\": 0.0,\n        \"max\": 20470572.61,\n        \"num_unique_values\": 18103,\n        \"samples\": [\n          11096.86,\n          22648.55,\n          87497.9\n        ],\n        \"semantic_type\": \"\",\n        \"description\": \"\"\n      }\n    },\n    {\n      \"column\": \"4770\",\n      \"properties\": {\n        \"dtype\": \"number\",\n        \"std\": 107464.06843537073,\n        \"min\": 0.0,\n        \"max\": 2546439.11,\n        \"num_unique_values\": 12071,\n        \"samples\": [\n          74.0,\n          1875.51,\n          202.18\n        ],\n        \"semantic_type\": \"\",\n        \"description\": \"\"\n      }\n    },\n    {\n      \"column\": \"Total Bags\",\n      \"properties\": {\n        \"dtype\": \"number\",\n        \"std\": 986242.3992164118,\n        \"min\": 0.0,\n        \"max\": 19373134.37,\n        \"num_unique_values\": 18097,\n        \"samples\": [\n          63800.09,\n          12938.12,\n          912891.54\n        ],\n        \"semantic_type\": \"\",\n        \"description\": \"\"\n      }\n    },\n    {\n      \"column\": \"Small Bags\",\n      \"properties\": {\n        \"dtype\": \"number\",\n        \"std\": 746178.5149617889,\n        \"min\": 0.0,\n        \"max\": 13384586.8,\n        \"num_unique_values\": 17321,\n        \"samples\": [\n          41688.75,\n          118293.26,\n          93488.63\n        ],\n        \"semantic_type\": \"\",\n        \"description\": \"\"\n      }\n    },\n    {\n      \"column\": \"Large Bags\",\n      \"properties\": {\n        \"dtype\": \"number\",\n        \"std\": 243965.96454740883,\n        \"min\": 0.0,\n        \"max\": 5719096.61,\n        \"num_unique_values\": 15082,\n        \"samples\": [\n          5155.3,\n          43900.93,\n          163807.71\n        ],\n        \"semantic_type\": \"\",\n        \"description\": \"\"\n      }\n    },\n    {\n      \"column\": \"XLarge Bags\",\n      \"properties\": {\n        \"dtype\": \"number\",\n        \"std\": 17692.894651916486,\n        \"min\": 0.0,\n        \"max\": 551693.65,\n        \"num_unique_values\": 5588,\n        \"samples\": [\n          527.2,\n          1290.39,\n          7249.07\n        ],\n        \"semantic_type\": \"\",\n        \"description\": \"\"\n      }\n    },\n    {\n      \"column\": \"year\",\n      \"properties\": {\n        \"dtype\": \"number\",\n        \"std\": 0,\n        \"min\": 2015,\n        \"max\": 2018,\n        \"num_unique_values\": 4,\n        \"samples\": [\n          2016,\n          2018,\n          2015\n        ],\n        \"semantic_type\": \"\",\n        \"description\": \"\"\n      }\n    }\n  ]\n}"
            }
          },
          "metadata": {},
          "execution_count": 40
        }
      ]
    },
    {
      "cell_type": "code",
      "source": [
        "#splitting the data\n",
        "target= 'AveragePrice'\n",
        "predictors = avocado.columns.drop(target)\n",
        "train_data, test_data, train_sln, test_sln = train_test_split(avocado[predictors], avocado[target], test_size = 0.2, random_state= 3)"
      ],
      "metadata": {
        "id": "Tfl3Q0j0QemI"
      },
      "execution_count": null,
      "outputs": []
    },
    {
      "cell_type": "markdown",
      "source": [
        "#**Research**"
      ],
      "metadata": {
        "id": "bxVXwFTip26p"
      }
    },
    {
      "cell_type": "markdown",
      "source": [
        "###kNN"
      ],
      "metadata": {
        "id": "UFtRhA5b3NRN"
      }
    },
    {
      "cell_type": "code",
      "source": [
        "from sklearn.neighbors import KNeighborsRegressor\n",
        "\n",
        "def kNNRegressor(train_data, train_sln, test_data, test_sln):\n",
        "  knn = KNeighborsRegressor(n_neighbors=7)\n",
        "\n",
        "  knn.fit(train_data, train_sln)\n",
        "\n",
        "  predictions = knn.predict(test_data)\n",
        "\n",
        "  mae = metrics.mean_absolute_error(test_sln, predictions)\n",
        "  r_squared = metrics.r2_score(test_sln, predictions)\n",
        "  mse = metrics.mean_squared_error(test_sln, predictions)\n",
        "\n",
        "  return \"MAE: \", mae, \"R squared: \", r_squared, \"MSE: \", mse\n",
        "\n",
        "print(kNNRegressor(train_data, train_sln, test_data, test_sln))"
      ],
      "metadata": {
        "colab": {
          "base_uri": "https://localhost:8080/"
        },
        "id": "bI5RUMNqRdOX",
        "outputId": "f7642a7d-dc2c-4a8b-e733-1b9079e52e6b"
      },
      "execution_count": null,
      "outputs": [
        {
          "output_type": "stream",
          "name": "stdout",
          "text": [
            "('MAE: ', 0.16659804305283757, 'R squared: ', 0.6477229964590607, 'MSE: ', 0.05516664131954152)\n"
          ]
        }
      ]
    },
    {
      "cell_type": "code",
      "source": [
        "def tune_max_k(max_k_values):\n",
        "    rf_r_squared = []\n",
        "\n",
        "    for m in max_k_values:\n",
        "\n",
        "        knn = KNeighborsRegressor(n_neighbors= m)\n",
        "        knn.fit(train_data,train_sln)\n",
        "        predictions = knn.predict(test_data)\n",
        "        r_squared = metrics.r2_score(test_sln, predictions)\n",
        "        rf_r_squared.append(r_squared)\n",
        "\n",
        "\n",
        "    plt.suptitle('kNN r squared vs. n neighbors',fontsize=18)\n",
        "    plt.xlabel('n neighbors')\n",
        "    plt.ylabel('r squared')\n",
        "    plt.plot(max_k_values,rf_r_squared,'ro-')\n",
        "    plt.axis([0,max_k_values[-1]+1,min(rf_r_squared),max(rf_r_squared)+.1])\n",
        "\n",
        "    plt.show()\n",
        "\n",
        "tune_max_k(range(1,50)) #declines after 50, but graph points were blurring together, so I cut those points off\n"
      ],
      "metadata": {
        "colab": {
          "base_uri": "https://localhost:8080/",
          "height": 497
        },
        "id": "Z2aLaKB-2WFN",
        "outputId": "bbbe75b3-b65b-4a3d-a422-8471b646360d"
      },
      "execution_count": null,
      "outputs": [
        {
          "output_type": "display_data",
          "data": {
            "text/plain": [
              "<Figure size 640x480 with 1 Axes>"
            ],
            "image/png": "[encoded data removed]"
          },
          "metadata": {}
        }
      ]
    },
    {
      "cell_type": "markdown",
      "source": [
        "###Weighted kNN"
      ],
      "metadata": {
        "id": "7xSiuYIj3VD_"
      }
    },
    {
      "cell_type": "code",
      "source": [
        "def weightedkNNRegressor(train_data, train_sln, test_data, test_sln):\n",
        "  knn = KNeighborsRegressor(n_neighbors=7, weights = \"distance\")\n",
        "\n",
        "  knn.fit(train_data, train_sln)\n",
        "\n",
        "  predictions = knn.predict(test_data)\n",
        "\n",
        "  mae = metrics.mean_absolute_error(test_sln, predictions)\n",
        "  r_squared = metrics.r2_score(test_sln, predictions)\n",
        "  mse = metrics.mean_squared_error(test_sln, predictions)\n",
        "\n",
        "  return \"MAE: \", mae, \"R squared: \", r_squared, \"MSE: \", mse\n",
        "\n",
        "print(weightedkNNRegressor(train_data, train_sln, test_data, test_sln))"
      ],
      "metadata": {
        "colab": {
          "base_uri": "https://localhost:8080/"
        },
        "id": "DcwRieifUWA-",
        "outputId": "5048ffbf-ee1e-48fc-9707-99e03faf17cf"
      },
      "execution_count": null,
      "outputs": [
        {
          "output_type": "stream",
          "name": "stdout",
          "text": [
            "('MAE: ', 0.1614245215948067, 'R squared: ', 0.6592894861076252, 'MSE: ', 0.053355326986346936)\n"
          ]
        }
      ]
    },
    {
      "cell_type": "code",
      "source": [
        "def tune_max_weighted_k(max_weighted_k_values):\n",
        "    rf_r_squared = []\n",
        "\n",
        "    for m in max_weighted_k_values:\n",
        "\n",
        "        knn = KNeighborsRegressor(n_neighbors= m, weights = \"distance\")\n",
        "        knn.fit(train_data,train_sln)\n",
        "        predictions = knn.predict(test_data)\n",
        "        r_squared = metrics.r2_score(test_sln, predictions)\n",
        "        rf_r_squared.append(r_squared)\n",
        "\n",
        "\n",
        "    plt.suptitle('Weighted kNN r squared vs. n neighbors',fontsize=18)\n",
        "    plt.xlabel('n neighbors')\n",
        "    plt.ylabel('r squared')\n",
        "    plt.plot(max_weighted_k_values,rf_r_squared,'ro-')\n",
        "    plt.axis([0,max_weighted_k_values[-1]+1,min(rf_r_squared),max(rf_r_squared)+.1])\n",
        "\n",
        "    plt.show()\n",
        "\n",
        "tune_max_weighted_k(range(1,50)) #declines after 50, but graph points were blurring together, so I cut those points off"
      ],
      "metadata": {
        "colab": {
          "base_uri": "https://localhost:8080/",
          "height": 497
        },
        "id": "6dtPTf6N1Yq3",
        "outputId": "966c1849-6977-4335-dd3b-e0eaf642a019"
      },
      "execution_count": null,
      "outputs": [
        {
          "output_type": "display_data",
          "data": {
            "text/plain": [
              "<Figure size 640x480 with 1 Axes>"
            ],
            "image/png": "[encoded data removed]"
          },
          "metadata": {}
        }
      ]
    },
    {
      "cell_type": "markdown",
      "source": [
        "###Decision Tree"
      ],
      "metadata": {
        "id": "dkz3wvy33dXE"
      }
    },
    {
      "cell_type": "code",
      "source": [
        "from sklearn.tree import DecisionTreeRegressor\n",
        "from sklearn.metrics import accuracy_score"
      ],
      "metadata": {
        "id": "UtSNF5adUuRa"
      },
      "execution_count": null,
      "outputs": []
    },
    {
      "cell_type": "code",
      "source": [
        "def dtRegressor(train_data, train_sln, test_data, test_sln):\n",
        "  decision_tree = DecisionTreeRegressor(max_depth= 11)\n",
        "\n",
        "  decision_tree.fit(train_data, train_sln)\n",
        "\n",
        "  predictions = decision_tree.predict(test_data)\n",
        "\n",
        "  mae = metrics.mean_absolute_error(test_sln, predictions)\n",
        "  r_squared = metrics.r2_score(test_sln, predictions)\n",
        "  mse = metrics.mean_squared_error(test_sln, predictions)\n",
        "\n",
        "  return \"MAE: \", mae, \"R squared: \", r_squared, \"MSE: \", mse\n",
        "\n",
        "print(dtRegressor(train_data, train_sln, test_data, test_sln))"
      ],
      "metadata": {
        "colab": {
          "base_uri": "https://localhost:8080/"
        },
        "id": "JuJShuNBUzaf",
        "outputId": "1b45ab85-662e-42ea-ab44-ffd8a4cfe86f"
      },
      "execution_count": null,
      "outputs": [
        {
          "output_type": "stream",
          "name": "stdout",
          "text": [
            "('MAE: ', 0.16719381774165382, 'R squared: ', 0.632199607767362, 'MSE: ', 0.05759760674564334)\n"
          ]
        }
      ]
    },
    {
      "cell_type": "code",
      "source": [
        "def tune_max_depth(max_depth_values):\n",
        "    rf_r_squared = []\n",
        "\n",
        "    for m in max_depth_values:\n",
        "\n",
        "        decision_tree = DecisionTreeRegressor(max_depth= m)\n",
        "        decision_tree.fit(train_data,train_sln)\n",
        "        predictions = decision_tree.predict(test_data)\n",
        "        r_squared = metrics.r2_score(test_sln, predictions)\n",
        "        rf_r_squared.append(r_squared)\n",
        "\n",
        "\n",
        "    plt.suptitle('Decision Tree r squared vs. max depth',fontsize=18)\n",
        "    plt.xlabel('max depth')\n",
        "    plt.ylabel('r squared')\n",
        "    plt.plot(max_depth_values,rf_r_squared,'ro-')\n",
        "    plt.axis([0,max_depth_values[-1]+1,min(rf_r_squared),max(rf_r_squared)+.1])\n",
        "\n",
        "    plt.show()\n",
        "\n",
        "tune_max_depth(range(1,100))"
      ],
      "metadata": {
        "colab": {
          "base_uri": "https://localhost:8080/",
          "height": 497
        },
        "id": "YHCy1C8Izaha",
        "outputId": "be9b2556-18e0-4cc3-bce3-a0656fa2456a"
      },
      "execution_count": null,
      "outputs": [
        {
          "output_type": "display_data",
          "data": {
            "text/plain": [
              "<Figure size 640x480 with 1 Axes>"
            ],
            "image/png": "[encoded data removed]"
          },
          "metadata": {}
        }
      ]
    },
    {
      "cell_type": "markdown",
      "source": [
        "###Random Forest"
      ],
      "metadata": {
        "id": "Yo-DIsAs3hm1"
      }
    },
    {
      "cell_type": "code",
      "source": [
        "from sklearn.ensemble import RandomForestRegressor"
      ],
      "metadata": {
        "id": "5Xcq6jpXan4X"
      },
      "execution_count": null,
      "outputs": []
    },
    {
      "cell_type": "code",
      "source": [
        "def randforestRegressor(train_data, train_sln, test_data, test_sln):\n",
        "  forest = RandomForestRegressor(random_state = 31, n_estimators = 100, max_features = 9)\n",
        "  forest.fit(train_data,train_sln)\n",
        "  predictions = forest.predict(test_data)\n",
        "\n",
        "  mae = metrics.mean_absolute_error(test_sln, predictions)\n",
        "  r_squared = metrics.r2_score(test_sln, predictions)\n",
        "  mse = metrics.mean_squared_error(test_sln, predictions)\n",
        "\n",
        "  return \"MAE: \", mae, \"R squared: \", r_squared, \"MSE: \", mse\n",
        "\n",
        "print(randforestRegressor(train_data, train_sln, test_data, test_sln))"
      ],
      "metadata": {
        "colab": {
          "base_uri": "https://localhost:8080/"
        },
        "id": "UyezYFekamEm",
        "outputId": "695f3fe0-3173-4f14-ec86-e7aed5806c93"
      },
      "execution_count": null,
      "outputs": [
        {
          "output_type": "stream",
          "name": "stdout",
          "text": [
            "('MAE: ', 0.11874827397260271, 'R squared: ', 0.810341039706383, 'MSE: ', 0.029700626865753414)\n"
          ]
        }
      ]
    },
    {
      "cell_type": "code",
      "source": [
        "import matplotlib.pyplot as plt\n",
        "\n",
        "def tune_number_of_trees(n_estimator_values):\n",
        "    rf_r_squared = []\n",
        "\n",
        "    for n in n_estimator_values:\n",
        "\n",
        "        curr_rf = RandomForestRegressor(n_estimators=n, random_state=41)\n",
        "        curr_rf.fit(train_data,train_sln)\n",
        "        predictions = curr_rf.predict(test_data)\n",
        "        r_squared = metrics.r2_score(test_sln, predictions)\n",
        "        rf_r_squared.append(r_squared)\n",
        "\n",
        "\n",
        "    plt.suptitle('Random Forest r squared vs. number of trees',fontsize=18)\n",
        "    plt.xlabel('# trees')\n",
        "    plt.ylabel('r squared')\n",
        "    plt.plot(n_estimator_values,rf_r_squared,'ro-')\n",
        "    plt.axis([0,n_estimator_values[-1]+1,min(rf_r_squared),max(rf_r_squared) + .1])\n",
        "\n",
        "    plt.show()\n",
        "\n",
        "def tune_max_features(max_features_values):\n",
        "    rf_r_squared = []\n",
        "\n",
        "    for m in max_features_values:\n",
        "\n",
        "        curr_rf = RandomForestRegressor(n_estimators=10,max_features=m, random_state=31)\n",
        "        curr_rf.fit(train_data,train_sln)\n",
        "        predictions = curr_rf.predict(test_data)\n",
        "        r_squared = metrics.r2_score(test_sln, predictions)\n",
        "        rf_r_squared.append(r_squared)\n",
        "\n",
        "\n",
        "    plt.suptitle('Random Forest r squared vs. max features',fontsize=18)\n",
        "    plt.xlabel('max features')\n",
        "    plt.ylabel('r squared')\n",
        "    plt.plot(max_features_values,rf_r_squared,'ro-')\n",
        "    plt.axis([0,max_features_values[-1]+1,min(rf_r_squared),max(rf_r_squared)+.1])\n",
        "\n",
        "    plt.show()"
      ],
      "metadata": {
        "id": "M_LHhWOxrZ9p"
      },
      "execution_count": null,
      "outputs": []
    },
    {
      "cell_type": "code",
      "source": [
        "tune_max_features(range(1,50))\n",
        "tune_number_of_trees(range(1,100))"
      ],
      "metadata": {
        "colab": {
          "base_uri": "https://localhost:8080/",
          "height": 977
        },
        "id": "pjzV-FHvssVD",
        "outputId": "bee499b1-2604-4435-8955-2d390b81e4d9"
      },
      "execution_count": null,
      "outputs": [
        {
          "output_type": "display_data",
          "data": {
            "text/plain": [
              "<Figure size 640x480 with 1 Axes>"
            ],
            "image/png": "[encoded data removed]"
          },
          "metadata": {}
        },
        {
          "output_type": "display_data",
          "data": {
            "text/plain": [
              "<Figure size 640x480 with 1 Axes>"
            ],
            "image/png": "[encoded data removed]"
          },
          "metadata": {}
        }
      ]
    },
    {
      "cell_type": "markdown",
      "source": [
        "###Testing Feature Importance of the Best Model"
      ],
      "metadata": {
        "id": "_oWF3C2S-2Wo"
      }
    },
    {
      "cell_type": "code",
      "source": [
        "import numpy as np\n",
        "%matplotlib inline\n",
        "\n",
        "forest = RandomForestRegressor(random_state = 31, n_estimators = 100, max_features = 9)\n",
        "forest.fit(train_data,train_sln)\n",
        "predictions = forest.predict(test_data)\n",
        "\n",
        "index = range(len(predictors))\n",
        "importances = forest.feature_importances_\n",
        "sorted_indices = np.argsort(importances)\n",
        "\n",
        "plt.figure(figsize=(8,10))\n",
        "plt.title('Avocado Feature Importances')\n",
        "plt.barh(range(len(sorted_indices)),importances[sorted_indices],height=0.8)\n",
        "plt.ylabel('Feature')\n",
        "plt.yticks(index,predictors)\n",
        "plt.xlabel(\"Random Forest Feature Importance\")\n",
        "plt.show()"
      ],
      "metadata": {
        "colab": {
          "base_uri": "https://localhost:8080/",
          "height": 872
        },
        "id": "XfyYFgx3-IxK",
        "outputId": "8f61c59c-8f05-455f-86de-31830e2198a7"
      },
      "execution_count": null,
      "outputs": [
        {
          "output_type": "display_data",
          "data": {
            "text/plain": [
              "<Figure size 800x1000 with 1 Axes>"
            ],
            "image/png": "[encoded data removed]"
          },
          "metadata": {}
        }
      ]
    },
    {
      "cell_type": "markdown",
      "source": [
        "# **Normalizing Data**"
      ],
      "metadata": {
        "id": "9614qVibVIJ_"
      }
    },
    {
      "cell_type": "code",
      "source": [
        "from sklearn.preprocessing import StandardScaler\n",
        "\n",
        "scaler = StandardScaler()\n",
        "\n",
        "scaler.fit(train_data)\n",
        "train_data_normalized = scaler.transform(train_data)\n",
        "test_data_normalized = scaler.transform(test_data)"
      ],
      "metadata": {
        "id": "0EZkOR9TVHYN"
      },
      "execution_count": null,
      "outputs": []
    },
    {
      "cell_type": "code",
      "source": [
        "print(\"Normalized kNN Regressor:\", kNNRegressor(train_data_normalized, train_sln, test_data_normalized, test_sln))\n",
        "print(\"Normalized Weighted kNN Regressor:\", weightedkNNRegressor(train_data_normalized, train_sln, test_data_normalized, test_sln))\n",
        "print(\"Normalized Decision Tree Regressor:\", dtRegressor(train_data_normalized, train_sln, test_data_normalized, test_sln))\n",
        "print(\"Normalized Random Forest Regressor:\", randforestRegressor(train_data_normalized, train_sln, test_data_normalized, test_sln))"
      ],
      "metadata": {
        "colab": {
          "base_uri": "https://localhost:8080/"
        },
        "id": "OPGklTujX39a",
        "outputId": "53eb858a-8f6d-46f5-d88d-246e24643f6b"
      },
      "execution_count": null,
      "outputs": [
        {
          "output_type": "stream",
          "name": "stdout",
          "text": [
            "Normalized kNN Regressor: ('MAE: ', 0.14117612524461842, 'R squared: ', 0.726382989348124, 'MSE: ', 0.04284847246295778)\n",
            "Normalized Weighted kNN Regressor: ('MAE: ', 0.13444388768688226, 'R squared: ', 0.7432596678950472, 'MSE: ', 0.0402055816051811)\n",
            "Normalized Decision Tree Regressor: ('MAE: ', 0.16593877317698763, 'R squared: ', 0.6393977929477899, 'MSE: ', 0.056470369667977686)\n",
            "Normalized Random Forest Regressor: ('MAE: ', 0.1188392602739726, 'R squared: ', 0.8102572454908077, 'MSE: ', 0.029713749054794517)\n"
          ]
        }
      ]
    },
    {
      "cell_type": "markdown",
      "source": [
        "#**Analysis**\n",
        "The best model for predicting average price is the non-normalized random forest model while the worst model is the non-normalized decision tree model. In the non-normalized random forest model we can see that the year is by far the most important feature to predict the average price of the avocados. Perhaps this means that other factors that related to the year like inflation percentages were also important in predicting the avocado price or just that the other columns simply weren't as important. This model was also found to be the best with 100 estimators and 9 max features. \\\n",
        "\\\n",
        "Random forests and decision trees have quite opposite strengths and weaknesses, so I think the fact that the random forest did the best and the decision tree the worst means that the data largely relies on one of those differences. For example, random forests are good for data that has many outliers and is unlikely to overfit data. Perhaps this means that the data is more complex causing overfitting or has many outliers that greatly diminishes the fit of the decision tree model. \\\n",
        "\\\n",
        "It is also interesting that the non-normalized random forest model had a barely higher r squared than the normalized random forest model and the normalized decision tree model had a slightly higher r squared than the non-normalized decision tree model. Also, the normalized values for both kNN models were much higher than the non-normalized models. This makes sense when considering the basis of each model. Random forests are not distance based models like kNN, so changing the scale can make the numbers vary in either direction. In the kNN, the scale often lowers the values to a specific range, so columns are valued equally which creates a better fit.\\\n",
        "\n",
        "In conclusion, when predicting average avocado price with industry data, a random forest model would predict with the best fit."
      ],
      "metadata": {
        "id": "_P_7elUUqcqr"
      }
    },
    {
      "cell_type": "markdown",
      "source": [
        "#**Bumps in the Road**\n",
        "Overall this project went smoothly, I guess the only bumps in the road was when doing the value tuning because some of the computations (especially the tune number of trees) took a while to compute."
      ],
      "metadata": {
        "id": "yCUyP5kHqec-"
      }
    }
  ]
}